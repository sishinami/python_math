{
  "nbformat": 4,
  "nbformat_minor": 0,
  "metadata": {
    "colab": {
      "name": "  4.1.ipynb",
      "provenance": [],
      "authorship_tag": "ABX9TyNMObrJ/hNDsYfTjsFpLR46",
      "include_colab_link": true
    },
    "kernelspec": {
      "name": "python3",
      "display_name": "Python 3"
    },
    "language_info": {
      "name": "python"
    }
  },
  "cells": [
    {
      "cell_type": "markdown",
      "metadata": {
        "id": "view-in-github",
        "colab_type": "text"
      },
      "source": [
        "<a href=\"https://colab.research.google.com/github/sishinami/python_math/blob/main/4_1.ipynb\" target=\"_parent\"><img src=\"https://colab.research.google.com/assets/colab-badge.svg\" alt=\"Open In Colab\"/></a>"
      ]
    },
    {
      "cell_type": "code",
      "metadata": {
        "id": "roQWZ8GgvkH8"
      },
      "source": [
        "# スカラー\n",
        "# ギリシャ文字の小文字はスカラー\n",
        "#  一個の数字\n",
        "#α δ　γ\n",
        "# 　ベクトルは 一次元配列のこと　　[1,2,3,5,4]"
      ],
      "execution_count": 1,
      "outputs": []
    },
    {
      "cell_type": "code",
      "metadata": {
        "id": "iQahB8VNvzJN"
      },
      "source": [
        "a = 1\n",
        "b = 1.2\n",
        "c = -0.25\n",
        "d = 1.2e5"
      ],
      "execution_count": 2,
      "outputs": []
    },
    {
      "cell_type": "code",
      "metadata": {
        "colab": {
          "base_uri": "https://localhost:8080/"
        },
        "id": "29KAl1Qnv126",
        "outputId": "3a4c9a07-29ed-42ce-d830-9fbf07aeb533"
      },
      "source": [
        "# 　行列はスカラーを格子状に並べたもの\n",
        "# 　つまり二次元配列 \n",
        "\n",
        "import numpy as np\n",
        "\n",
        "np.array([[1,2,3],[4,5,6]]) # 2x3 　行列"
      ],
      "execution_count": 5,
      "outputs": [
        {
          "output_type": "execute_result",
          "data": {
            "text/plain": [
              "array([[1, 2, 3],\n",
              "       [4, 5, 6]])"
            ]
          },
          "metadata": {},
          "execution_count": 5
        }
      ]
    },
    {
      "cell_type": "code",
      "metadata": {
        "id": "LM1pyhVCwZek"
      },
      "source": [
        " #  テンソルは 3次元以上の配列のこと "
      ],
      "execution_count": null,
      "outputs": []
    }
  ]
}