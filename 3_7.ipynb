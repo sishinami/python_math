{
  "nbformat": 4,
  "nbformat_minor": 0,
  "metadata": {
    "colab": {
      "name": "3.7.ipynb",
      "provenance": [],
      "authorship_tag": "ABX9TyPPaIyBDOVkYXfQajkM4IR4",
      "include_colab_link": true
    },
    "kernelspec": {
      "name": "python3",
      "display_name": "Python 3"
    },
    "language_info": {
      "name": "python"
    }
  },
  "cells": [
    {
      "cell_type": "markdown",
      "metadata": {
        "id": "view-in-github",
        "colab_type": "text"
      },
      "source": [
        "<a href=\"https://colab.research.google.com/github/sishinami/python_math/blob/main/3_7.ipynb\" target=\"_parent\"><img src=\"https://colab.research.google.com/assets/colab-badge.svg\" alt=\"Open In Colab\"/></a>"
      ]
    },
    {
      "cell_type": "code",
      "metadata": {
        "id": "8xyPc_dHUOtF",
        "colab": {
          "base_uri": "https://localhost:8080/"
        },
        "outputId": "67b87581-f7c7-4840-8fbe-1cdd4bd1b40f"
      },
      "source": [
        "#履修した単位数を分母とする\n",
        "124-64 \n"
      ],
      "execution_count": 1,
      "outputs": [
        {
          "output_type": "execute_result",
          "data": {
            "text/plain": [
              "60"
            ]
          },
          "metadata": {
            "tags": []
          },
          "execution_count": 1
        }
      ]
    },
    {
      "cell_type": "code",
      "metadata": {
        "colab": {
          "base_uri": "https://localhost:8080/"
        },
        "id": "r75CvfKFetfB",
        "outputId": "aa9042cf-9214-4b7f-8360-23d203a2a9b0"
      },
      "source": [
        "(4*56+3*4)/62"
      ],
      "execution_count": 25,
      "outputs": [
        {
          "output_type": "execute_result",
          "data": {
            "text/plain": [
              "3.806451612903226"
            ]
          },
          "metadata": {
            "tags": []
          },
          "execution_count": 25
        }
      ]
    },
    {
      "cell_type": "code",
      "metadata": {
        "colab": {
          "base_uri": "https://localhost:8080/"
        },
        "id": "fCXdagfSe7M8",
        "outputId": "d3b84988-76fd-4956-f1db-894f4f68d8c8"
      },
      "source": [
        "3.8*62\n"
      ],
      "execution_count": 19,
      "outputs": [
        {
          "output_type": "execute_result",
          "data": {
            "text/plain": [
              "235.6"
            ]
          },
          "metadata": {
            "tags": []
          },
          "execution_count": 19
        }
      ]
    },
    {
      "cell_type": "code",
      "metadata": {
        "colab": {
          "base_uri": "https://localhost:8080/"
        },
        "id": "aZuyzmGGe_8I",
        "outputId": "9f8ab656-513c-493f-a1ae-e4bb8e7b0001"
      },
      "source": [
        ""
      ],
      "execution_count": 1,
      "outputs": [
        {
          "output_type": "execute_result",
          "data": {
            "text/plain": [
              "2"
            ]
          },
          "metadata": {
            "tags": []
          },
          "execution_count": 1
        }
      ]
    },
    {
      "cell_type": "code",
      "metadata": {
        "colab": {
          "base_uri": "https://localhost:8080/"
        },
        "id": "DZRIBmjifB_4",
        "outputId": "bdc46f3e-0762-4289-ddbd-f8ce3aa2d8be"
      },
      "source": [
        ""
      ],
      "execution_count": 5,
      "outputs": [
        {
          "output_type": "execute_result",
          "data": {
            "text/plain": [
              "3.8857142857142857"
            ]
          },
          "metadata": {
            "tags": []
          },
          "execution_count": 5
        }
      ]
    },
    {
      "cell_type": "markdown",
      "metadata": {
        "id": "zS9N3KiIxple"
      },
      "source": [
        "　Σを見たら sum\n",
        "  Πを見たら  prod\n",
        "  "
      ]
    },
    {
      "cell_type": "code",
      "metadata": {
        "id": "FRVQLDIYfFqL"
      },
      "source": [
        "a=[1,2,3,4,5]\n",
        "import numpy as np\n",
        "y1=[np.sum(a[:i]) for i,x in enumerate(a)]\n"
      ],
      "execution_count": 9,
      "outputs": []
    },
    {
      "cell_type": "code",
      "metadata": {
        "colab": {
          "base_uri": "https://localhost:8080/"
        },
        "id": "OlwTyNW6yuH6",
        "outputId": "bae1deeb-6914-4659-c8f8-6dd5947b9c0a"
      },
      "source": [
        "y2 =[np.prod(a[:i]) for i,x in enumerate(a)]\n",
        "\n",
        "y2\n"
      ],
      "execution_count": 16,
      "outputs": [
        {
          "output_type": "execute_result",
          "data": {
            "text/plain": [
              "[1.0, 1, 2, 6, 24]"
            ]
          },
          "metadata": {
            "tags": []
          },
          "execution_count": 16
        }
      ]
    },
    {
      "cell_type": "code",
      "metadata": {
        "colab": {
          "base_uri": "https://localhost:8080/",
          "height": 286
        },
        "id": "Mqf42WUWxxyG",
        "outputId": "fbeab941-8cae-4379-82db-9366d7cb9a58"
      },
      "source": [
        "import matplotlib.pyplot as plt\n",
        "plt.plot(a,y1,label='sum')\n",
        "plt.plot(a,y2,label='prod')\n",
        "plt.legend()\n"
      ],
      "execution_count": 20,
      "outputs": [
        {
          "output_type": "execute_result",
          "data": {
            "text/plain": [
              "<matplotlib.legend.Legend at 0x7fc7d8bc3b90>"
            ]
          },
          "metadata": {
            "tags": []
          },
          "execution_count": 20
        },
        {
          "output_type": "display_data",
          "data": {
            "image/png": "[encoded data removed]",
            "text/plain": [
              "<Figure size 432x288 with 1 Axes>"
            ]
          },
          "metadata": {
            "tags": [],
            "needs_background": "light"
          }
        }
      ]
    },
    {
      "cell_type": "code",
      "metadata": {
        "id": "DWl5l2tyyBLf"
      },
      "source": [
        ""
      ],
      "execution_count": null,
      "outputs": []
    }
  ]
}