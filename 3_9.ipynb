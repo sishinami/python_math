{
  "nbformat": 4,
  "nbformat_minor": 0,
  "metadata": {
    "colab": {
      "name": "3.9.ipynb",
      "provenance": [],
      "authorship_tag": "ABX9TyNk21pAaUMKeJUJQIiFDy/Z",
      "include_colab_link": true
    },
    "kernelspec": {
      "name": "python3",
      "display_name": "Python 3"
    },
    "language_info": {
      "name": "python"
    }
  },
  "cells": [
    {
      "cell_type": "markdown",
      "metadata": {
        "id": "view-in-github",
        "colab_type": "text"
      },
      "source": [
        "<a href=\"https://colab.research.google.com/github/sishinami/python_math/blob/main/3_9.ipynb\" target=\"_parent\"><img src=\"https://colab.research.google.com/assets/colab-badge.svg\" alt=\"Open In Colab\"/></a>"
      ]
    },
    {
      "cell_type": "code",
      "metadata": {
        "id": "RFNyKlStTfQC"
      },
      "source": [
        "import numpy as np\n",
        "import matplotlib.pyplot as plt"
      ],
      "execution_count": 1,
      "outputs": []
    },
    {
      "cell_type": "code",
      "metadata": {
        "id": "ZuoP3qOAUA_i"
      },
      "source": [
        "x = np.arange(100)\n",
        "\n",
        "y = np.random.randn(1000) # 　正規分布\n"
      ],
      "execution_count": 9,
      "outputs": []
    },
    {
      "cell_type": "code",
      "metadata": {
        "colab": {
          "base_uri": "https://localhost:8080/",
          "height": 355
        },
        "id": "CUOb9zkDUOX_",
        "outputId": "6a144f51-a786-4daf-f4dd-27a865911691"
      },
      "source": [
        "plt.hist(y)"
      ],
      "execution_count": 10,
      "outputs": [
        {
          "output_type": "execute_result",
          "data": {
            "text/plain": [
              "(array([  5.,  16.,  52., 122., 219., 233., 193., 113.,  37.,  10.]),\n",
              " array([-3.47580122, -2.82831293, -2.18082464, -1.53333635, -0.88584806,\n",
              "        -0.23835977,  0.40912852,  1.05661681,  1.7041051 ,  2.35159339,\n",
              "         2.99908168]),\n",
              " <a list of 10 Patch objects>)"
            ]
          },
          "metadata": {},
          "execution_count": 10
        },
        {
          "output_type": "display_data",
          "data": {
            "image/png": "[encoded data removed]",
            "text/plain": [
              "<Figure size 432x288 with 1 Axes>"
            ]
          },
          "metadata": {
            "needs_background": "light"
          }
        }
      ]
    },
    {
      "cell_type": "code",
      "metadata": {
        "id": "yf0z9n1kUi2x"
      },
      "source": [
        ""
      ],
      "execution_count": null,
      "outputs": []
    },
    {
      "cell_type": "markdown",
      "metadata": {
        "id": "zn6GmDtGUrJ9"
      },
      "source": [
        "$$y=2x+1$$\n",
        "$$a_1 + a_{ij}$$\n",
        "$$b^2  c_1^2$$\n",
        "$$y=\\frac{a_{ij}}{b^4_{ij}}$$\n",
        "$$　y = \\sum_{k=1}^n a_k $$\n",
        "$$ y = \\prod_{k=1}^n a_k$$\n",
        "\n",
        "$$ y = x^3 + \\sqrt x + \\frac{a_{ij}}{b^4_{ij}} - \\sum_{k=1}^n a_k$$\n"
      ]
    }
  ]
}